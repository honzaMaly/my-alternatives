{
 "cells": [
  {
   "cell_type": "code",
   "execution_count": 2,
   "metadata": {
    "collapsed": true,
    "pycharm": {
     "name": "#%%\n"
    }
   },
   "outputs": [],
   "source": [
    "import pandas as pd"
   ]
  },
  {
   "cell_type": "code",
   "execution_count": 4,
   "outputs": [
    {
     "data": {
      "text/plain": "                                             address   categoryName  \\\n0           Vodičkova 22, 110 00 Nové Město, Czechia  Tour operator   \n1  Pobřežní 1, 186 00 Praha 8-Rohanský ostrov, Cz...            NaN   \n2      Na Pankráci 86, 140 00 Praha 4-Nusle, Czechia            NaN   \n3           Karlova 184, 110 00 Staré Město, Czechia  Tour operator   \n4  Metropole Zličín, Řevnická 1, 155 21 Praha 5, ...  Jewelry store   \n\n          locatedIn  location/lat  location/lng  permanentlyClosed  \\\n0               NaN     50.079777     14.423361              False   \n1               NaN     50.093009     14.439677              False   \n2               NaN     50.051042     14.439504              False   \n3               NaN     50.085957     14.415486              False   \n4  Metropole Zličín     50.053726     14.287425              False   \n\n              phone                      placeId                   plusCode  \\\n0  +420 735 046 744  ChIJ3Yj6jvKUC0cRy_TaRc1Zb0o  3CHF+W8 Prague 1, Czechia   \n1  +420 224 841 111  ChIJZV2CvL6UC0cRlztx6oFIAzw  3CVQ+6V Prague 8, Czechia   \n2  +420 277 000 323  ChIJzbjXknWUC0cR13A7yuOHGl8  3C2Q+CR Prague 4, Czechia   \n3  +420 732 139 522  ChIJiROSW--UC0cRvoizkbBPt_Y    3CP8+95 Prague, Czechia   \n4  +420 601 243 065  ChIJU1LHl0e_C0cRkkV5fmyK2WE  373P+FX Prague 5, Czechia   \n\n   rank  reviewsCount searchString  subTitle  temporarilyClosed  \\\n0   246        48.000         pubs       NaN              False   \n1   251         5.495         pubs       NaN              False   \n2   244           NaN         pubs       NaN              False   \n3   248        94.000         pubs       NaN              False   \n4   242        32.000         pubs       NaN               True   \n\n                                 title  totalScore  \\\n0  Beer Prague - Walking Brewery Tours         4.8   \n1                        Hilton Prague         4.4   \n2                           Coccinelle         NaN   \n3                Clock Tower Bar Crawl         4.1   \n4                              PANDORA         4.1   \n\n                                                 url         website  \n0  https://www.google.com/maps/place/Beer+Prague+...  beerprague.com  \n1  https://www.google.com/maps/place/Hilton+Pragu...      hilton.com  \n2  https://www.google.com/maps/place/Coccinelle/@...             NaN  \n3  https://www.google.com/maps/place/Clock+Tower+...     thecrawl.cz  \n4  https://www.google.com/maps/place/PANDORA/@50....     pandora.net  ",
      "text/html": "<div>\n<style scoped>\n    .dataframe tbody tr th:only-of-type {\n        vertical-align: middle;\n    }\n\n    .dataframe tbody tr th {\n        vertical-align: top;\n    }\n\n    .dataframe thead th {\n        text-align: right;\n    }\n</style>\n<table border=\"1\" class=\"dataframe\">\n  <thead>\n    <tr style=\"text-align: right;\">\n      <th></th>\n      <th>address</th>\n      <th>categoryName</th>\n      <th>locatedIn</th>\n      <th>location/lat</th>\n      <th>location/lng</th>\n      <th>permanentlyClosed</th>\n      <th>phone</th>\n      <th>placeId</th>\n      <th>plusCode</th>\n      <th>rank</th>\n      <th>reviewsCount</th>\n      <th>searchString</th>\n      <th>subTitle</th>\n      <th>temporarilyClosed</th>\n      <th>title</th>\n      <th>totalScore</th>\n      <th>url</th>\n      <th>website</th>\n    </tr>\n  </thead>\n  <tbody>\n    <tr>\n      <th>0</th>\n      <td>Vodičkova 22, 110 00 Nové Město, Czechia</td>\n      <td>Tour operator</td>\n      <td>NaN</td>\n      <td>50.079777</td>\n      <td>14.423361</td>\n      <td>False</td>\n      <td>+420 735 046 744</td>\n      <td>ChIJ3Yj6jvKUC0cRy_TaRc1Zb0o</td>\n      <td>3CHF+W8 Prague 1, Czechia</td>\n      <td>246</td>\n      <td>48.000</td>\n      <td>pubs</td>\n      <td>NaN</td>\n      <td>False</td>\n      <td>Beer Prague - Walking Brewery Tours</td>\n      <td>4.8</td>\n      <td>https://www.google.com/maps/place/Beer+Prague+...</td>\n      <td>beerprague.com</td>\n    </tr>\n    <tr>\n      <th>1</th>\n      <td>Pobřežní 1, 186 00 Praha 8-Rohanský ostrov, Cz...</td>\n      <td>NaN</td>\n      <td>NaN</td>\n      <td>50.093009</td>\n      <td>14.439677</td>\n      <td>False</td>\n      <td>+420 224 841 111</td>\n      <td>ChIJZV2CvL6UC0cRlztx6oFIAzw</td>\n      <td>3CVQ+6V Prague 8, Czechia</td>\n      <td>251</td>\n      <td>5.495</td>\n      <td>pubs</td>\n      <td>NaN</td>\n      <td>False</td>\n      <td>Hilton Prague</td>\n      <td>4.4</td>\n      <td>https://www.google.com/maps/place/Hilton+Pragu...</td>\n      <td>hilton.com</td>\n    </tr>\n    <tr>\n      <th>2</th>\n      <td>Na Pankráci 86, 140 00 Praha 4-Nusle, Czechia</td>\n      <td>NaN</td>\n      <td>NaN</td>\n      <td>50.051042</td>\n      <td>14.439504</td>\n      <td>False</td>\n      <td>+420 277 000 323</td>\n      <td>ChIJzbjXknWUC0cR13A7yuOHGl8</td>\n      <td>3C2Q+CR Prague 4, Czechia</td>\n      <td>244</td>\n      <td>NaN</td>\n      <td>pubs</td>\n      <td>NaN</td>\n      <td>False</td>\n      <td>Coccinelle</td>\n      <td>NaN</td>\n      <td>https://www.google.com/maps/place/Coccinelle/@...</td>\n      <td>NaN</td>\n    </tr>\n    <tr>\n      <th>3</th>\n      <td>Karlova 184, 110 00 Staré Město, Czechia</td>\n      <td>Tour operator</td>\n      <td>NaN</td>\n      <td>50.085957</td>\n      <td>14.415486</td>\n      <td>False</td>\n      <td>+420 732 139 522</td>\n      <td>ChIJiROSW--UC0cRvoizkbBPt_Y</td>\n      <td>3CP8+95 Prague, Czechia</td>\n      <td>248</td>\n      <td>94.000</td>\n      <td>pubs</td>\n      <td>NaN</td>\n      <td>False</td>\n      <td>Clock Tower Bar Crawl</td>\n      <td>4.1</td>\n      <td>https://www.google.com/maps/place/Clock+Tower+...</td>\n      <td>thecrawl.cz</td>\n    </tr>\n    <tr>\n      <th>4</th>\n      <td>Metropole Zličín, Řevnická 1, 155 21 Praha 5, ...</td>\n      <td>Jewelry store</td>\n      <td>Metropole Zličín</td>\n      <td>50.053726</td>\n      <td>14.287425</td>\n      <td>False</td>\n      <td>+420 601 243 065</td>\n      <td>ChIJU1LHl0e_C0cRkkV5fmyK2WE</td>\n      <td>373P+FX Prague 5, Czechia</td>\n      <td>242</td>\n      <td>32.000</td>\n      <td>pubs</td>\n      <td>NaN</td>\n      <td>True</td>\n      <td>PANDORA</td>\n      <td>4.1</td>\n      <td>https://www.google.com/maps/place/PANDORA/@50....</td>\n      <td>pandora.net</td>\n    </tr>\n  </tbody>\n</table>\n</div>"
     },
     "execution_count": 4,
     "metadata": {},
     "output_type": "execute_result"
    }
   ],
   "source": [
    "# load data\n",
    "dataset_df = pd.read_csv('data/places.csv')\n",
    "dataset_df.head()"
   ],
   "metadata": {
    "collapsed": false,
    "pycharm": {
     "name": "#%%\n"
    }
   }
  },
  {
   "cell_type": "code",
   "execution_count": 26,
   "outputs": [
    {
     "name": "stderr",
     "output_type": "stream",
     "text": [
      "<ipython-input-26-cc0ce4a702bd>:56: SettingWithCopyWarning: \n",
      "A value is trying to be set on a copy of a slice from a DataFrame.\n",
      "Try using .loc[row_indexer,col_indexer] = value instead\n",
      "\n",
      "See the caveats in the documentation: https://pandas.pydata.org/pandas-docs/stable/user_guide/indexing.html#returning-a-view-versus-a-copy\n",
      "  dataset_filtered_df['category'] = dataset_filtered_df['categoryName'].map(map_category)\n"
     ]
    },
    {
     "data": {
      "text/plain": "                                              address    categoryName  \\\n7   5, V Kolkovně 920, Staré Město, 110 00 Praha, ...      Night club   \n8   Archeologická 2256/1, 155 00 Praha 5-Lužiny, C...  Clothing store   \n9       Novodvorská 1800/136, 142 00 Praha 4, Czechia  Clothing store   \n10              Vrážská 1507, 153 00 Radotín, Czechia  Clothing store   \n11                Řevnická 1, 155 21 Praha 5, Czechia  Clothing store   \n\n            locatedIn  location/lat  location/lng  permanentlyClosed  \\\n7                 NaN     50.089600     14.421700              False   \n8           OC Lužiny     50.043562     14.331798              False   \n9   Novodvorská Plaza     50.026764     14.432912              False   \n10                NaN     49.985084     14.365662              False   \n11   Metropole Zličín     50.054487     14.288311              False   \n\n               phone                      placeId                   plusCode  \\\n7   +420 734 202 505  ChIJ_R2wu-mUC0cRsWuSFFH7wQE    3CQC+RM Prague, Czechia   \n8                NaN  ChIJIwrYjfyVC0cRqfdY3QhEXiA  28VJ+CP Prague 5, Czechia   \n9   +420 241 413 736  ChIJZ8U6j1WRC0cRa1cAVciX0T8  2CGM+P5 Prague 4, Czechia   \n10               NaN  ChIJHynBHxuXC0cRY5bzwxc9HCs    X9P8+27 Prague, Czechia   \n11  +420 777 785 106  ChIJvft8HW6-C0cR5Wedq3Th31I    373Q+Q8 Prague, Czechia   \n\n    rank  reviewsCount searchString  subTitle  temporarilyClosed  \\\n7    249         409.0         pubs       NaN              False   \n8    245          66.0         pubs       NaN              False   \n9    241          17.0         pubs       NaN              False   \n10   243          19.0         pubs       NaN              False   \n11   235         104.0         pubs       NaN               True   \n\n                                  title  totalScore  \\\n7                      steampunk Prague         4.0   \n8   Kik textil a Non-Food spol. s r. o.         4.1   \n9                                   H&M         4.3   \n10                  KiK Praha 5 Radotín         3.8   \n11                                  C&A         4.2   \n\n                                                  url             website  \\\n7   https://www.google.com/maps/place/steampunk+Pr...  steampunkprague.cz   \n8   https://www.google.com/maps/place/Kik+textil+a...              kik.cz   \n9   https://www.google.com/maps/place/H%26M/@50.02...              hm.com   \n10  https://www.google.com/maps/place/KiK+Praha+5+...              kik.cz   \n11  https://www.google.com/maps/place/C%26A/@50.05...         c-and-a.com   \n\n    category  \n7      Party  \n8   Clothing  \n9   Clothing  \n10  Clothing  \n11  Clothing  ",
      "text/html": "<div>\n<style scoped>\n    .dataframe tbody tr th:only-of-type {\n        vertical-align: middle;\n    }\n\n    .dataframe tbody tr th {\n        vertical-align: top;\n    }\n\n    .dataframe thead th {\n        text-align: right;\n    }\n</style>\n<table border=\"1\" class=\"dataframe\">\n  <thead>\n    <tr style=\"text-align: right;\">\n      <th></th>\n      <th>address</th>\n      <th>categoryName</th>\n      <th>locatedIn</th>\n      <th>location/lat</th>\n      <th>location/lng</th>\n      <th>permanentlyClosed</th>\n      <th>phone</th>\n      <th>placeId</th>\n      <th>plusCode</th>\n      <th>rank</th>\n      <th>reviewsCount</th>\n      <th>searchString</th>\n      <th>subTitle</th>\n      <th>temporarilyClosed</th>\n      <th>title</th>\n      <th>totalScore</th>\n      <th>url</th>\n      <th>website</th>\n      <th>category</th>\n    </tr>\n  </thead>\n  <tbody>\n    <tr>\n      <th>7</th>\n      <td>5, V Kolkovně 920, Staré Město, 110 00 Praha, ...</td>\n      <td>Night club</td>\n      <td>NaN</td>\n      <td>50.089600</td>\n      <td>14.421700</td>\n      <td>False</td>\n      <td>+420 734 202 505</td>\n      <td>ChIJ_R2wu-mUC0cRsWuSFFH7wQE</td>\n      <td>3CQC+RM Prague, Czechia</td>\n      <td>249</td>\n      <td>409.0</td>\n      <td>pubs</td>\n      <td>NaN</td>\n      <td>False</td>\n      <td>steampunk Prague</td>\n      <td>4.0</td>\n      <td>https://www.google.com/maps/place/steampunk+Pr...</td>\n      <td>steampunkprague.cz</td>\n      <td>Party</td>\n    </tr>\n    <tr>\n      <th>8</th>\n      <td>Archeologická 2256/1, 155 00 Praha 5-Lužiny, C...</td>\n      <td>Clothing store</td>\n      <td>OC Lužiny</td>\n      <td>50.043562</td>\n      <td>14.331798</td>\n      <td>False</td>\n      <td>NaN</td>\n      <td>ChIJIwrYjfyVC0cRqfdY3QhEXiA</td>\n      <td>28VJ+CP Prague 5, Czechia</td>\n      <td>245</td>\n      <td>66.0</td>\n      <td>pubs</td>\n      <td>NaN</td>\n      <td>False</td>\n      <td>Kik textil a Non-Food spol. s r. o.</td>\n      <td>4.1</td>\n      <td>https://www.google.com/maps/place/Kik+textil+a...</td>\n      <td>kik.cz</td>\n      <td>Clothing</td>\n    </tr>\n    <tr>\n      <th>9</th>\n      <td>Novodvorská 1800/136, 142 00 Praha 4, Czechia</td>\n      <td>Clothing store</td>\n      <td>Novodvorská Plaza</td>\n      <td>50.026764</td>\n      <td>14.432912</td>\n      <td>False</td>\n      <td>+420 241 413 736</td>\n      <td>ChIJZ8U6j1WRC0cRa1cAVciX0T8</td>\n      <td>2CGM+P5 Prague 4, Czechia</td>\n      <td>241</td>\n      <td>17.0</td>\n      <td>pubs</td>\n      <td>NaN</td>\n      <td>False</td>\n      <td>H&amp;M</td>\n      <td>4.3</td>\n      <td>https://www.google.com/maps/place/H%26M/@50.02...</td>\n      <td>hm.com</td>\n      <td>Clothing</td>\n    </tr>\n    <tr>\n      <th>10</th>\n      <td>Vrážská 1507, 153 00 Radotín, Czechia</td>\n      <td>Clothing store</td>\n      <td>NaN</td>\n      <td>49.985084</td>\n      <td>14.365662</td>\n      <td>False</td>\n      <td>NaN</td>\n      <td>ChIJHynBHxuXC0cRY5bzwxc9HCs</td>\n      <td>X9P8+27 Prague, Czechia</td>\n      <td>243</td>\n      <td>19.0</td>\n      <td>pubs</td>\n      <td>NaN</td>\n      <td>False</td>\n      <td>KiK Praha 5 Radotín</td>\n      <td>3.8</td>\n      <td>https://www.google.com/maps/place/KiK+Praha+5+...</td>\n      <td>kik.cz</td>\n      <td>Clothing</td>\n    </tr>\n    <tr>\n      <th>11</th>\n      <td>Řevnická 1, 155 21 Praha 5, Czechia</td>\n      <td>Clothing store</td>\n      <td>Metropole Zličín</td>\n      <td>50.054487</td>\n      <td>14.288311</td>\n      <td>False</td>\n      <td>+420 777 785 106</td>\n      <td>ChIJvft8HW6-C0cR5Wedq3Th31I</td>\n      <td>373Q+Q8 Prague, Czechia</td>\n      <td>235</td>\n      <td>104.0</td>\n      <td>pubs</td>\n      <td>NaN</td>\n      <td>True</td>\n      <td>C&amp;A</td>\n      <td>4.2</td>\n      <td>https://www.google.com/maps/place/C%26A/@50.05...</td>\n      <td>c-and-a.com</td>\n      <td>Clothing</td>\n    </tr>\n  </tbody>\n</table>\n</div>"
     },
     "execution_count": 26,
     "metadata": {},
     "output_type": "execute_result"
    }
   ],
   "source": [
    "# map categories\n",
    "\n",
    "mapping = [\n",
    "    {\n",
    "        'category': 'Bakery',\n",
    "        'type': 'Groceries',\n",
    "        'tags': ['Bakery'],\n",
    "        'places': ['bakery']\n",
    "     },\n",
    "    {\n",
    "        'category': 'Alcohol',\n",
    "        'type': 'Groceries',\n",
    "        'tags': ['Alcohol'],\n",
    "        'places': ['liquor store']\n",
    "     },\n",
    "    {\n",
    "        'category': 'Restaurant',\n",
    "        'type': 'Food And Drink',\n",
    "        'tags': ['Restaurant', 'Cuisine', 'Fast Food', 'Bageterie', 'Steak House / Burgers', 'Sushi'],\n",
    "        'places': ['restaurant']\n",
    "     },\n",
    "    {\n",
    "        'category': 'Party',\n",
    "        'type': 'Food And Drink',\n",
    "        'tags': ['Bar', 'Music Club', 'Alcohol', 'Wine', 'Drinking', 'Bear', 'Pub'],\n",
    "        'places': ['night club', 'bar', 'pub']\n",
    "     },\n",
    "    {\n",
    "        'category': 'Clothing',\n",
    "        'type': 'Fashion',\n",
    "        'tags': ['Fashion Chain - Mix', 'Fashion Accessories', 'Clothing - Other'],\n",
    "        'places': ['clothing store']\n",
    "     },\n",
    "    {\n",
    "        'category': 'Pets',\n",
    "        'type': 'Pets',\n",
    "        'tags': ['Pet Supplies', 'Pets'],\n",
    "        'places': ['pet store']\n",
    "     },\n",
    "    {\n",
    "        'category': 'Cafe',\n",
    "        'type': 'Cafe',\n",
    "        'tags': ['Pet Supplies', 'Pets'],\n",
    "        'places': ['cafe']\n",
    "     }\n",
    "]\n",
    "\n",
    "def map_category(search_string):\n",
    "    for item in mapping:\n",
    "        if any(x.lower() in search_string.lower() for x in item['places']):\n",
    "            return item['category']\n",
    "    return None\n",
    "\n",
    "dataset_df['category'] = dataset_df['searchString'].map(map_category)\n",
    "dataset_filtered_df = dataset_df[~dataset_df['categoryName'].isnull()]\n",
    "dataset_filtered_df['category'] = dataset_filtered_df['categoryName'].map(map_category)\n",
    "dataset_filtered_df = dataset_filtered_df[~dataset_filtered_df['category'].isnull()]\n",
    "dataset_filtered_df.head()"
   ],
   "metadata": {
    "collapsed": false,
    "pycharm": {
     "name": "#%%\n"
    }
   }
  },
  {
   "cell_type": "code",
   "execution_count": 29,
   "outputs": [],
   "source": [
    "# select only subset of columns\n",
    "columns_to_take = ['address', 'location/lat', 'location/lng', 'phone', 'reviewsCount', 'title',\n",
    "                   'totalScore', 'url', 'website', 'category']\n",
    "\n",
    "dataset_filtered_df = dataset_filtered_df[columns_to_take]"
   ],
   "metadata": {
    "collapsed": false,
    "pycharm": {
     "name": "#%%\n"
    }
   }
  },
  {
   "cell_type": "code",
   "execution_count": 37,
   "outputs": [],
   "source": [
    "local_websites = dataset_filtered_df.groupby('website', as_index=False).count()[['website', 'category']]\n",
    "local_websites = list(local_websites[local_websites['category'] == 1]['website'])"
   ],
   "metadata": {
    "collapsed": false,
    "pycharm": {
     "name": "#%%\n"
    }
   }
  },
  {
   "cell_type": "code",
   "execution_count": 39,
   "outputs": [
    {
     "data": {
      "text/plain": "Party         256\nRestaurant    248\nClothing       83\nCafe           63\nBakery         32\nPets           11\nAlcohol         4\nName: category, dtype: int64"
     },
     "execution_count": 39,
     "metadata": {},
     "output_type": "execute_result"
    }
   ],
   "source": [
    "# show counts\n",
    "dataset_filtered_df[dataset_filtered_df['website'].isin(local_websites)]['category'].value_counts()"
   ],
   "metadata": {
    "collapsed": false,
    "pycharm": {
     "name": "#%%\n"
    }
   }
  },
  {
   "cell_type": "code",
   "execution_count": 40,
   "outputs": [],
   "source": [
    "# filter and save data\n",
    "dataset_filtered_df[dataset_filtered_df['website'].isin(local_websites)]\\\n",
    "    .to_csv('places_final.csv', encoding='utf-8', index=False)"
   ],
   "metadata": {
    "collapsed": false,
    "pycharm": {
     "name": "#%%\n"
    }
   }
  },
  {
   "cell_type": "code",
   "execution_count": 5,
   "outputs": [],
   "source": [
    "\n"
   ],
   "metadata": {
    "collapsed": false,
    "pycharm": {
     "name": "#%%\n"
    }
   }
  }
 ],
 "metadata": {
  "kernelspec": {
   "display_name": "Python 3",
   "language": "python",
   "name": "python3"
  },
  "language_info": {
   "codemirror_mode": {
    "name": "ipython",
    "version": 2
   },
   "file_extension": ".py",
   "mimetype": "text/x-python",
   "name": "python",
   "nbconvert_exporter": "python",
   "pygments_lexer": "ipython2",
   "version": "2.7.6"
  }
 },
 "nbformat": 4,
 "nbformat_minor": 0
}